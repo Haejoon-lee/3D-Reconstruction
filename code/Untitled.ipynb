{
 "cells": [
  {
   "cell_type": "code",
   "execution_count": 17,
   "id": "05526147",
   "metadata": {},
   "outputs": [],
   "source": [
    "import numpy as np\n",
    "import matplotlib.pyplot as plt\n",
    "import numpy.polynomial.polynomial as poly\n",
    "\n",
    "from helper import displayEpipolarF, calc_epi_error, toHomogenous, _singularize\n"
   ]
  },
  {
   "cell_type": "code",
   "execution_count": 2,
   "id": "ea08c2d8",
   "metadata": {},
   "outputs": [],
   "source": [
    "    from scipy.spatial.transform import Rotation as sRot\n",
    "    rotVec = sRot.random()\n",
    "#     mat = rodrigues(rotVec.as_rotvec())\n"
   ]
  },
  {
   "cell_type": "code",
   "execution_count": 143,
   "id": "f9cff61f",
   "metadata": {},
   "outputs": [
    {
     "ename": "AttributeError",
     "evalue": "'scipy.spatial.transform._rotation.Rotation' object has no attribute 'reshape'",
     "output_type": "error",
     "traceback": [
      "\u001b[0;31m---------------------------------------------------------------------------\u001b[0m",
      "\u001b[0;31mAttributeError\u001b[0m                            Traceback (most recent call last)",
      "Input \u001b[0;32mIn [143]\u001b[0m, in \u001b[0;36m<cell line: 1>\u001b[0;34m()\u001b[0m\n\u001b[0;32m----> 1\u001b[0m \u001b[43mrotVec\u001b[49m\u001b[38;5;241;43m.\u001b[39;49m\u001b[43mreshape\u001b[49m(\u001b[38;5;241m-\u001b[39m\u001b[38;5;241m1\u001b[39m, \u001b[38;5;241m1\u001b[39m)\n",
      "\u001b[0;31mAttributeError\u001b[0m: 'scipy.spatial.transform._rotation.Rotation' object has no attribute 'reshape'"
     ]
    }
   ],
   "source": [
    "rotVec.reshape(-1, 1)"
   ]
  },
  {
   "cell_type": "code",
   "execution_count": 7,
   "id": "23e2fffd",
   "metadata": {},
   "outputs": [],
   "source": [
    "u = rotVec.as_rotvec()"
   ]
  },
  {
   "cell_type": "code",
   "execution_count": 141,
   "id": "4ab80eff",
   "metadata": {},
   "outputs": [
    {
     "data": {
      "text/plain": [
       "3"
      ]
     },
     "execution_count": 141,
     "metadata": {},
     "output_type": "execute_result"
    }
   ],
   "source": [
    "u.shape[0]"
   ]
  },
  {
   "cell_type": "code",
   "execution_count": 8,
   "id": "5b6f6756",
   "metadata": {},
   "outputs": [
    {
     "ename": "IndexError",
     "evalue": "too many indices for array: array is 1-dimensional, but 2 were indexed",
     "output_type": "error",
     "traceback": [
      "\u001b[0;31m---------------------------------------------------------------------------\u001b[0m",
      "\u001b[0;31mIndexError\u001b[0m                                Traceback (most recent call last)",
      "Input \u001b[0;32mIn [8]\u001b[0m, in \u001b[0;36m<cell line: 2>\u001b[0;34m()\u001b[0m\n\u001b[1;32m      1\u001b[0m \u001b[38;5;66;03m# u = r / theta\u001b[39;00m\n\u001b[0;32m----> 2\u001b[0m u1, u2, u3 \u001b[38;5;241m=\u001b[39m \u001b[43mu\u001b[49m\u001b[43m[\u001b[49m\u001b[38;5;241;43m0\u001b[39;49m\u001b[43m,\u001b[49m\u001b[43m \u001b[49m\u001b[38;5;241;43m0\u001b[39;49m\u001b[43m]\u001b[49m, u[\u001b[38;5;241m1\u001b[39m, \u001b[38;5;241m0\u001b[39m], u[\u001b[38;5;241m2\u001b[39m, \u001b[38;5;241m0\u001b[39m]\n",
      "\u001b[0;31mIndexError\u001b[0m: too many indices for array: array is 1-dimensional, but 2 were indexed"
     ]
    }
   ],
   "source": [
    "# u = r / theta\n",
    "u1, u2, u3 = u[0, 0], u[1, 0], u[2, 0]"
   ]
  },
  {
   "cell_type": "code",
   "execution_count": 125,
   "id": "73f7821d",
   "metadata": {},
   "outputs": [],
   "source": [
    "    correspondence = np.load('data/some_corresp.npz') # Loading correspondences\n",
    "    intrinsics = np.load('data/intrinsics.npz') # Loading the intrinscis of the camera\n",
    "    K1, K2 = intrinsics['K1'], intrinsics['K2']\n",
    "    pts1, pts2 = correspondence['pts1'], correspondence['pts2']\n",
    "    im1 = plt.imread('data/im1.png')\n",
    "    im2 = plt.imread('data/im2.png')\n",
    "\n",
    "    indices = np.array([18, 19, 24, 54, 56, 82, 84])\n",
    "\n",
    "    M = np.max([*im1.shape, *im2.shape])\n",
    "\n",
    "#     Farray = sevenpoint(pts1[indices, :]"
   ]
  },
  {
   "cell_type": "code",
   "execution_count": 126,
   "id": "ee3f588c",
   "metadata": {},
   "outputs": [],
   "source": [
    "pts1, pts2 = pts1[indices, :], pts2[indices, :]"
   ]
  },
  {
   "cell_type": "code",
   "execution_count": 127,
   "id": "7529af9c",
   "metadata": {},
   "outputs": [],
   "source": [
    "Farray = []\n",
    "# ----- TODO -----\n",
    "# YOUR CODE HERE\n",
    "N = pts1.shape[0]\n",
    "\n",
    "# normalize pts\n",
    "pts1, pts2 = pts1/float(M), pts2/float(M)\n",
    "x1s = pts1[:, 0] #(N,)\n",
    "y1s = pts1[:, 1]\n",
    "x2s = pts2[:, 0]\n",
    "y2s = pts2[:, 1]\n",
    "\n",
    "# construct columns of A\n",
    "c0 = x2s * x1s\n",
    "c1 = x2s * y1s\n",
    "c2 = x2s\n",
    "c3 = y2s * x1s\n",
    "c4 = y2s * y1s\n",
    "c5 = y2s\n",
    "c6 = x1s\n",
    "c7 = y1s\n",
    "c8 = np.ones((N,), dtype=np.float32)\n",
    "\n",
    "A = np.stack((c0, c1, c2, c3, c4, c5, c6, c7, c8), axis=1)\n",
    "\n",
    "# solve a raw f\n",
    "U, singular_vals, Vt = np.linalg.svd(A)\n",
    "# fk is the last kth column of V, so the last raw of Vt\n",
    "f1, f2 = Vt[-1, :], Vt[-2, :] #(9,)\n",
    "F1, F2 = f1.reshape(3, 3), f2.reshape(3, 3)\n",
    "\n",
    "a, b = F1-F2, F2\n",
    "\n",
    "fun = lambda x: np.linalg.det(x*a + b)\n",
    "fun0 = fun(0)\n",
    "fun1 = fun(1)\n",
    "fun_1 = fun(-1)\n",
    "fun2 = fun(2)\n",
    "fun_2 = fun(-2)\n",
    "\n",
    "c0 = fun0\n",
    "c1 = (2.0/3)*(fun1-fun_1) - (1.0/12)*(fun2-fun_2)\n",
    "c3 = (1.0/12)*(fun2 - fun_2) - (1.0/6)*(fun1-fun_1)\n",
    "c2 = fun1 - c0 - c1 - c3\n",
    "\n",
    "roots = np.roots([c3, c2, c1, c0])\n",
    "roots_imag_mag = np.abs(np.imag(roots))\n",
    "eps = 0.001\n",
    "roots = roots[roots_imag_mag < eps]\n",
    "roots = np.real(roots)\n"
   ]
  },
  {
   "cell_type": "code",
   "execution_count": 128,
   "id": "24dcfbcc",
   "metadata": {},
   "outputs": [
    {
     "data": {
      "text/plain": [
       "array([[0.24375  , 0.4765625],\n",
       "       [0.740625 , 0.6      ],\n",
       "       [0.2375   , 0.3515625],\n",
       "       [0.3984375, 0.3171875],\n",
       "       [0.7828125, 0.2375   ],\n",
       "       [0.1921875, 0.196875 ],\n",
       "       [0.7390625, 0.1609375]])"
      ]
     },
     "execution_count": 128,
     "metadata": {},
     "output_type": "execute_result"
    }
   ],
   "source": [
    "pts1"
   ]
  },
  {
   "cell_type": "code",
   "execution_count": 129,
   "id": "326ab83e",
   "metadata": {},
   "outputs": [
    {
     "data": {
      "text/plain": [
       "array([2.11250024, 0.35624117, 0.09019566])"
      ]
     },
     "execution_count": 129,
     "metadata": {},
     "output_type": "execute_result"
    }
   ],
   "source": [
    "roots"
   ]
  },
  {
   "cell_type": "code",
   "execution_count": 130,
   "id": "feca436e",
   "metadata": {},
   "outputs": [
    {
     "data": {
      "text/plain": [
       "array([0.09019566, 0.35624117, 2.11250024])"
      ]
     },
     "execution_count": 130,
     "metadata": {},
     "output_type": "execute_result"
    }
   ],
   "source": [
    "roots_test = poly.polyroots([c0, c1, c2, c3])\n",
    "# roots_test = poly.polyroots([c3, c2, c1, c0])\n",
    "roots_test"
   ]
  },
  {
   "cell_type": "code",
   "execution_count": null,
   "id": "a8b7b16a",
   "metadata": {},
   "outputs": [],
   "source": [
    "\n",
    "def sevenpoint(pts1, pts2, M):\n",
    "\n",
    "    Farray = []\n",
    "    # ----- TODO -----\n",
    "    # YOUR CODE HERE\n",
    "    N = pts1.shape[0]\n",
    "\n",
    "    # normalize pts\n",
    "    pts1, pts2 = pts1/float(M), pts2/float(M)\n",
    "    x1s = pts1[:, 0] #(N,)\n",
    "    y1s = pts1[:, 1]\n",
    "    x2s = pts2[:, 0]\n",
    "    y2s = pts2[:, 1]\n",
    "    \n",
    "    # construct columns of A\n",
    "    c0 = x2s * x1s\n",
    "    c1 = x2s * y1s\n",
    "    c2 = x2s\n",
    "    c3 = y2s * x1s\n",
    "    c4 = y2s * y1s\n",
    "    c5 = y2s\n",
    "    c6 = x1s\n",
    "    c7 = y1s\n",
    "    c8 = np.ones((N,), dtype=np.float32)\n",
    "    \n",
    "    A = np.stack((c0, c1, c2, c3, c4, c5, c6, c7, c8), axis=1)\n",
    "    \n",
    "    # solve a raw f\n",
    "    U, singular_vals, Vt = np.linalg.svd(A)\n",
    "    # fk is the last kth column of V, so the last raw of Vt\n",
    "    f1, f2 = Vt[-1, :], Vt[-2, :] #(9,)\n",
    "    F1, F2 = f1.reshape(3, 3), f2.reshape(3, 3)\n",
    "\n",
    "    a, b = F1-F2, F2\n",
    "\n",
    "    fun = lambda x: np.linalg.det(x*a + b)\n",
    "    fun0 = fun(0)\n",
    "    fun1 = fun(1)\n",
    "    fun_1 = fun(-1)\n",
    "    fun2 = fun(2)\n",
    "    fun_2 = fun(-2)\n",
    "\n",
    "    c0 = fun0\n",
    "    c1 = (2.0/3)*(fun1-fun_1) - (1.0/12)*(fun2-fun_2)\n",
    "    c3 = (1.0/12)*(fun2 - fun_2) - (1.0/6)*(fun1-fun_1)\n",
    "    c2 = fun1 - c0 - c1 - c3\n",
    "\n",
    "    roots = np.roots([c3, c2, c1, c0])\n",
    "    roots_imag_mag = np.abs(np.imag(roots))\n",
    "    eps = 0.001\n",
    "    roots = roots[roots_imag_mag < eps]\n",
    "    roots = np.real(roots)\n",
    "\n",
    "    # now get the F for unormalized coordinates\n",
    "    # normalization transform\n",
    "    T = np.zeros((3, 3), dtype=np.float32)\n",
    "    T[0, 0] = 1.0 / M\n",
    "    T[1, 1] = 1.0 / M\n",
    "    T[2, 2] = 1.0\n",
    "\n",
    "    Fs = list()\n",
    "    for root in roots:\n",
    "        F_norm = root*a + b\n",
    "        F_unnorm = T.transpose() @ F_norm @ T\n",
    "        Fs.append(F_unnorm)\n",
    "    \n",
    "    return Fs"
   ]
  },
  {
   "cell_type": "code",
   "execution_count": 131,
   "id": "de15f431",
   "metadata": {},
   "outputs": [
    {
     "data": {
      "text/plain": [
       "array([[1., 0., 0., 0.],\n",
       "       [0., 1., 0., 0.],\n",
       "       [0., 0., 1., 0.]], dtype=float32)"
      ]
     },
     "execution_count": 131,
     "metadata": {},
     "output_type": "execute_result"
    }
   ],
   "source": [
    "M1 = np.zeros((3, 4), dtype=np.float32)\n",
    "M1[[0, 1, 2], [0, 1, 2]] = 1\n",
    "M1"
   ]
  },
  {
   "cell_type": "code",
   "execution_count": 132,
   "id": "62d56d2c",
   "metadata": {},
   "outputs": [
    {
     "data": {
      "text/plain": [
       "array([[1., 0., 0., 0.],\n",
       "       [0., 1., 0., 0.],\n",
       "       [0., 0., 1., 0.]], dtype=float32)"
      ]
     },
     "execution_count": 132,
     "metadata": {},
     "output_type": "execute_result"
    }
   ],
   "source": [
    "M1 = np.zeros((3, 4), dtype=np.float32)\n",
    "M1[0,0] = 1\n",
    "M1[1,1] = 1\n",
    "M1[2,2] = 1\n",
    "M1"
   ]
  },
  {
   "cell_type": "code",
   "execution_count": 136,
   "id": "81f1abd8",
   "metadata": {},
   "outputs": [],
   "source": [
    "r = 50\n",
    "x1 = 100 \n",
    "x2 = 200 \n",
    "y1 = 300\n",
    "y2 = 400\n",
    "ll = np.array([1, 0, -(x1-r)], dtype=np.float32).reshape(-1, 1)\n",
    "lt = np.array([0, 1, -(y1-r)], dtype=np.float32).reshape(-1, 1)\n",
    "lr = np.array([1, 0, -(x1+r)], dtype=np.float32).reshape(-1, 1)\n",
    "lb = np.array([0, 1, -(y1+r)], dtype=np.float32).reshape(-1, 1)\n",
    "\n",
    "boundary_lines = [ll, lt, lr, lb]\n",
    "# intersection points\n",
    "# intersect_points = [np.cross(l.reshape(-1), epipolarline_img2.reshape(-1)).reshape(-1, 1) for l in boundary_lines]\n",
    "# select the end points of search line segment"
   ]
  },
  {
   "cell_type": "code",
   "execution_count": 139,
   "id": "237af3d1",
   "metadata": {},
   "outputs": [
    {
     "data": {
      "text/plain": [
       "array([[   0.],\n",
       "       [   1.],\n",
       "       [-250.]], dtype=float32)"
      ]
     },
     "execution_count": 139,
     "metadata": {},
     "output_type": "execute_result"
    }
   ],
   "source": [
    "lt"
   ]
  },
  {
   "cell_type": "code",
   "execution_count": 154,
   "id": "617dea51",
   "metadata": {},
   "outputs": [],
   "source": [
    "import os\n",
    "\n",
    "loop = 5\n",
    "data_path = os.path.join('data/q6/','time'+str(loop)+'.npz')\n",
    "image1_path = os.path.join('data/q6/','cam1_time'+str(loop)+'.jpg')\n",
    "image2_path = os.path.join('data/q6/','cam2_time'+str(loop)+'.jpg')\n",
    "image3_path = os.path.join('data/q6/','cam3_time'+str(loop)+'.jpg')\n",
    "\n",
    "im1 = plt.imread(image1_path)\n",
    "im2 = plt.imread(image2_path)\n",
    "im3 = plt.imread(image3_path)\n",
    "\n",
    "data = np.load(data_path)\n",
    "pts1 = data['pts1']\n",
    "pts2 = data['pts2']\n",
    "pts3 = data['pts3']\n"
   ]
  },
  {
   "cell_type": "code",
   "execution_count": 157,
   "id": "495185f0",
   "metadata": {},
   "outputs": [
    {
     "data": {
      "text/plain": [
       "array([[ 917,  419,  800],\n",
       "       [1036,  409,  600],\n",
       "       [ 795,  423,  700],\n",
       "       [ 910,  411,  400],\n",
       "       [ 960,  374, 1000],\n",
       "       [1054,  360, 1000],\n",
       "       [ 778,  369,  800],\n",
       "       [ 844,  366,  500],\n",
       "       [ 877,  321,  700],\n",
       "       [ 954,  310,  800],\n",
       "       [ 800,  330,  600],\n",
       "       [ 869,  312,  700]])"
      ]
     },
     "execution_count": 157,
     "metadata": {},
     "output_type": "execute_result"
    }
   ],
   "source": [
    "pts3"
   ]
  }
 ],
 "metadata": {
  "kernelspec": {
   "display_name": "16720",
   "language": "python",
   "name": "cv"
  },
  "language_info": {
   "codemirror_mode": {
    "name": "ipython",
    "version": 3
   },
   "file_extension": ".py",
   "mimetype": "text/x-python",
   "name": "python",
   "nbconvert_exporter": "python",
   "pygments_lexer": "ipython3",
   "version": "3.8.13"
  }
 },
 "nbformat": 4,
 "nbformat_minor": 5
}
